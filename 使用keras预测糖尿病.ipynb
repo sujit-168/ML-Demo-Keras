{
  "nbformat": 4,
  "nbformat_minor": 0,
  "metadata": {
    "colab": {
      "name": "使用keras预测糖尿病.ipynb",
      "provenance": [],
      "collapsed_sections": [],
      "mount_file_id": "1ulJ4u6XFv8syvj0rOIcAhdBtDOiqHYJl",
      "authorship_tag": "ABX9TyOkeq6odUyDPrWPei1E7KgS",
      "include_colab_link": true
    },
    "kernelspec": {
      "display_name": "Python 3",
      "name": "python3"
    },
    "language_info": {
      "name": "python"
    }
  },
  "cells": [
    {
      "cell_type": "markdown",
      "metadata": {
        "id": "view-in-github",
        "colab_type": "text"
      },
      "source": [
        "<a href=\"https://colab.research.google.com/github/sujit-168/ML-Demo-Keras/blob/main/%E4%BD%BF%E7%94%A8keras%E9%A2%84%E6%B5%8B%E7%B3%96%E5%B0%BF%E7%97%85.ipynb\" target=\"_parent\"><img src=\"https://colab.research.google.com/assets/colab-badge.svg\" alt=\"Open In Colab\"/></a>"
      ]
    },
    {
      "cell_type": "code",
      "metadata": {
        "colab": {
          "base_uri": "https://localhost:8080/"
        },
        "id": "91TlY60BJL5_",
        "outputId": "09e78493-29ae-4a90-b35d-417186adcce7"
      },
      "source": [
        "!pip install keras"
      ],
      "execution_count": null,
      "outputs": [
        {
          "output_type": "stream",
          "text": [
            "Requirement already satisfied: keras in /usr/local/lib/python3.7/dist-packages (2.4.3)\n",
            "Requirement already satisfied: pyyaml in /usr/local/lib/python3.7/dist-packages (from keras) (3.13)\n",
            "Requirement already satisfied: h5py in /usr/local/lib/python3.7/dist-packages (from keras) (3.1.0)\n",
            "Requirement already satisfied: scipy>=0.14 in /usr/local/lib/python3.7/dist-packages (from keras) (1.4.1)\n",
            "Requirement already satisfied: numpy>=1.9.1 in /usr/local/lib/python3.7/dist-packages (from keras) (1.19.5)\n",
            "Requirement already satisfied: cached-property; python_version < \"3.8\" in /usr/local/lib/python3.7/dist-packages (from h5py->keras) (1.5.2)\n"
          ],
          "name": "stdout"
        }
      ]
    },
    {
      "cell_type": "code",
      "metadata": {
        "colab": {
          "base_uri": "https://localhost:8080/"
        },
        "id": "3dZyHQB9JvuC",
        "outputId": "7f55c2d4-b64b-4dd1-c8bf-00643d87f6e7"
      },
      "source": [
        "from google.colab import drive\n",
        "drive.mount('/content/drive/') "
      ],
      "execution_count": null,
      "outputs": [
        {
          "output_type": "stream",
          "text": [
            "Mounted at /content/drive/\n"
          ],
          "name": "stdout"
        }
      ]
    },
    {
      "cell_type": "markdown",
      "metadata": {
        "id": "ijM_3IKeLsOW"
      },
      "source": [
        "上传本地文件"
      ]
    },
    {
      "cell_type": "code",
      "metadata": {
        "id": "BzZPrrq8KxqI"
      },
      "source": [
        "from google.colab import files\n",
        "upload = files.upload()\n",
        "for fn in uploaded.key():\n",
        "  print('User uploaded file \"{name}\" with length {length} bytes'.format(name=fn,length=len(uploaded[fn])))"
      ],
      "execution_count": null,
      "outputs": []
    },
    {
      "cell_type": "code",
      "metadata": {
        "id": "KpGpcHwuOtXo"
      },
      "source": [
        "查看数据集"
      ],
      "execution_count": null,
      "outputs": []
    },
    {
      "cell_type": "code",
      "metadata": {
        "id": "e3fcKgrJL4XU"
      },
      "source": [
        "with open(\"diabetes.csv\",'w') as f:\n",
        "  f.write(uploaded[uploaded.key()[0]])"
      ],
      "execution_count": null,
      "outputs": []
    },
    {
      "cell_type": "markdown",
      "metadata": {
        "id": "3duH1BCEO0CY"
      },
      "source": [
        "安装Git，查看Git版本"
      ]
    },
    {
      "cell_type": "code",
      "metadata": {
        "colab": {
          "base_uri": "https://localhost:8080/"
        },
        "id": "60ZBfB0PNIxu",
        "outputId": "c35c9095-9052-4774-e045-15bfe94710aa"
      },
      "source": [
        "!apt install git\n",
        "!git --version"
      ],
      "execution_count": null,
      "outputs": [
        {
          "output_type": "stream",
          "text": [
            "Reading package lists... Done\n",
            "Building dependency tree       \n",
            "Reading state information... Done\n",
            "git is already the newest version (1:2.17.1-1ubuntu0.8).\n",
            "0 upgraded, 0 newly installed, 0 to remove and 31 not upgraded.\n",
            "git version 2.17.1\n"
          ],
          "name": "stdout"
        }
      ]
    },
    {
      "cell_type": "markdown",
      "metadata": {
        "id": "BDkH0BzVPG0O"
      },
      "source": [
        "从github上下载数据集"
      ]
    },
    {
      "cell_type": "code",
      "metadata": {
        "colab": {
          "base_uri": "https://localhost:8080/"
        },
        "id": "DbFUfF4hM91i",
        "outputId": "c4f13ff7-4542-4307-e221-4568f765ff65"
      },
      "source": [
        "!git clone https://hub.fastgit.org/sujit-168/Data-Collections.git"
      ],
      "execution_count": null,
      "outputs": [
        {
          "output_type": "stream",
          "text": [
            "Cloning into 'Data-Collections'...\n",
            "warning: redirecting to https://github.com/sujit-168/Data-Collections.git/\n",
            "remote: Enumerating objects: 20, done.\u001b[K\n",
            "remote: Counting objects: 100% (20/20), done.\u001b[K\n",
            "remote: Compressing objects: 100% (15/15), done.\u001b[K\n",
            "remote: Total 20 (delta 3), reused 15 (delta 3), pack-reused 0\u001b[K\n",
            "Unpacking objects: 100% (20/20), done.\n"
          ],
          "name": "stdout"
        }
      ]
    },
    {
      "cell_type": "code",
      "metadata": {
        "colab": {
          "base_uri": "https://localhost:8080/"
        },
        "id": "JQZVa-w1JlCK",
        "outputId": "e8e34b37-ec92-47a4-9e5a-1c7d291a5527"
      },
      "source": [
        "!cd sample_data/\n",
        "!ls"
      ],
      "execution_count": null,
      "outputs": [
        {
          "output_type": "stream",
          "text": [
            "Data-Collections  drive  sample_data\n"
          ],
          "name": "stdout"
        }
      ]
    },
    {
      "cell_type": "code",
      "metadata": {
        "colab": {
          "base_uri": "https://localhost:8080/",
          "height": 220
        },
        "id": "LSgSyubsPdLA",
        "outputId": "49e49af8-8c18-4cc2-aba3-e7dd7e75a651"
      },
      "source": [
        "# 导入数据处理及可视化工具\n",
        "!python --version\n",
        "import pandas as pd\n",
        "import numpy as np\n",
        "import matplotlib.pyplot as plt\n",
        "import seaborn as sns\n",
        "\n",
        "# 导入数据集并查看部分数据\n",
        "train_data=pd.read_csv('/content/Data-Collections/1.糖尿病预测数据集/diabetes.csv',encoding='utf-8')\n",
        "train_data.head()"
      ],
      "execution_count": null,
      "outputs": [
        {
          "output_type": "stream",
          "text": [
            "Python 3.7.10\n"
          ],
          "name": "stdout"
        },
        {
          "output_type": "execute_result",
          "data": {
            "text/html": [
              "<div>\n",
              "<style scoped>\n",
              "    .dataframe tbody tr th:only-of-type {\n",
              "        vertical-align: middle;\n",
              "    }\n",
              "\n",
              "    .dataframe tbody tr th {\n",
              "        vertical-align: top;\n",
              "    }\n",
              "\n",
              "    .dataframe thead th {\n",
              "        text-align: right;\n",
              "    }\n",
              "</style>\n",
              "<table border=\"1\" class=\"dataframe\">\n",
              "  <thead>\n",
              "    <tr style=\"text-align: right;\">\n",
              "      <th></th>\n",
              "      <th>Pregnancies</th>\n",
              "      <th>Glucose</th>\n",
              "      <th>BloodPressure</th>\n",
              "      <th>SkinThickness</th>\n",
              "      <th>Insulin</th>\n",
              "      <th>BMI</th>\n",
              "      <th>DiabetesPedigreeFunction</th>\n",
              "      <th>Age</th>\n",
              "      <th>Outcome</th>\n",
              "    </tr>\n",
              "  </thead>\n",
              "  <tbody>\n",
              "    <tr>\n",
              "      <th>0</th>\n",
              "      <td>6</td>\n",
              "      <td>148</td>\n",
              "      <td>72</td>\n",
              "      <td>35</td>\n",
              "      <td>0</td>\n",
              "      <td>33.6</td>\n",
              "      <td>0.627</td>\n",
              "      <td>50</td>\n",
              "      <td>1</td>\n",
              "    </tr>\n",
              "    <tr>\n",
              "      <th>1</th>\n",
              "      <td>1</td>\n",
              "      <td>85</td>\n",
              "      <td>66</td>\n",
              "      <td>29</td>\n",
              "      <td>0</td>\n",
              "      <td>26.6</td>\n",
              "      <td>0.351</td>\n",
              "      <td>31</td>\n",
              "      <td>0</td>\n",
              "    </tr>\n",
              "    <tr>\n",
              "      <th>2</th>\n",
              "      <td>8</td>\n",
              "      <td>183</td>\n",
              "      <td>64</td>\n",
              "      <td>0</td>\n",
              "      <td>0</td>\n",
              "      <td>23.3</td>\n",
              "      <td>0.672</td>\n",
              "      <td>32</td>\n",
              "      <td>1</td>\n",
              "    </tr>\n",
              "    <tr>\n",
              "      <th>3</th>\n",
              "      <td>1</td>\n",
              "      <td>89</td>\n",
              "      <td>66</td>\n",
              "      <td>23</td>\n",
              "      <td>94</td>\n",
              "      <td>28.1</td>\n",
              "      <td>0.167</td>\n",
              "      <td>21</td>\n",
              "      <td>0</td>\n",
              "    </tr>\n",
              "    <tr>\n",
              "      <th>4</th>\n",
              "      <td>0</td>\n",
              "      <td>137</td>\n",
              "      <td>40</td>\n",
              "      <td>35</td>\n",
              "      <td>168</td>\n",
              "      <td>43.1</td>\n",
              "      <td>2.288</td>\n",
              "      <td>33</td>\n",
              "      <td>1</td>\n",
              "    </tr>\n",
              "  </tbody>\n",
              "</table>\n",
              "</div>"
            ],
            "text/plain": [
              "   Pregnancies  Glucose  BloodPressure  ...  DiabetesPedigreeFunction  Age  Outcome\n",
              "0            6      148             72  ...                     0.627   50        1\n",
              "1            1       85             66  ...                     0.351   31        0\n",
              "2            8      183             64  ...                     0.672   32        1\n",
              "3            1       89             66  ...                     0.167   21        0\n",
              "4            0      137             40  ...                     2.288   33        1\n",
              "\n",
              "[5 rows x 9 columns]"
            ]
          },
          "metadata": {
            "tags": []
          },
          "execution_count": 7
        }
      ]
    },
    {
      "cell_type": "code",
      "metadata": {
        "id": "lChN0Ux3tGdx"
      },
      "source": [
        "#python 自带csv读取库\n",
        "#import csv\n",
        "#csvFile = open('/content/sample_data/california_housing_train.csv', \"r\")\n",
        "#dict_reader = csv.DictReader(csvFile)\n",
        "#for row in dict_reader:\n",
        "#    print(row)"
      ],
      "execution_count": null,
      "outputs": []
    },
    {
      "cell_type": "code",
      "metadata": {
        "colab": {
          "base_uri": "https://localhost:8080/"
        },
        "id": "c_Hfbb5zUozL",
        "outputId": "c1300aa0-8b64-4db9-b838-8dc34bd51d6f"
      },
      "source": [
        "print(\"糖尿病的特征维度为：{}\".format(train_data.shape))"
      ],
      "execution_count": null,
      "outputs": [
        {
          "output_type": "stream",
          "text": [
            "糖尿病的特征维度为：(768, 9)\n"
          ],
          "name": "stdout"
        }
      ]
    },
    {
      "cell_type": "code",
      "metadata": {
        "colab": {
          "base_uri": "https://localhost:8080/"
        },
        "id": "6pS4s5miYMSJ",
        "outputId": "be622f0f-8ded-44d5-987b-0974994818b3"
      },
      "source": [
        "print(train_data.groupby(\"Outcome\").size())"
      ],
      "execution_count": null,
      "outputs": [
        {
          "output_type": "stream",
          "text": [
            "Outcome\n",
            "0    500\n",
            "1    268\n",
            "dtype: int64\n"
          ],
          "name": "stdout"
        }
      ]
    },
    {
      "cell_type": "code",
      "metadata": {
        "colab": {
          "base_uri": "https://localhost:8080/",
          "height": 350
        },
        "id": "B6f3i2c0YXSh",
        "outputId": "015814aa-1c02-43e6-8168-bab6e0f25ea2"
      },
      "source": [
        "sns.countplot(train_data[\"Outcome\"],label=\"Count\")"
      ],
      "execution_count": null,
      "outputs": [
        {
          "output_type": "stream",
          "text": [
            "/usr/local/lib/python3.7/dist-packages/seaborn/_decorators.py:43: FutureWarning: Pass the following variable as a keyword arg: x. From version 0.12, the only valid positional argument will be `data`, and passing other arguments without an explicit keyword will result in an error or misinterpretation.\n",
            "  FutureWarning\n"
          ],
          "name": "stderr"
        },
        {
          "output_type": "execute_result",
          "data": {
            "text/plain": [
              "<matplotlib.axes._subplots.AxesSubplot at 0x7f2ec476f490>"
            ]
          },
          "metadata": {
            "tags": []
          },
          "execution_count": 11
        },
        {
          "output_type": "display_data",
          "data": {
            "image/png": "[encoded data removed]",
            "text/plain": [
              "<Figure size 432x288 with 1 Axes>"
            ]
          },
          "metadata": {
            "tags": [],
            "needs_background": "light"
          }
        }
      ]
    },
    {
      "cell_type": "code",
      "metadata": {
        "colab": {
          "base_uri": "https://localhost:8080/"
        },
        "id": "B1mfPNeYYiqo",
        "outputId": "acb487a4-9073-4e72-afeb-3e34b9f23868"
      },
      "source": [
        "train_data.info()"
      ],
      "execution_count": null,
      "outputs": [
        {
          "output_type": "stream",
          "text": [
            "<class 'pandas.core.frame.DataFrame'>\n",
            "RangeIndex: 768 entries, 0 to 767\n",
            "Data columns (total 9 columns):\n",
            " #   Column                    Non-Null Count  Dtype  \n",
            "---  ------                    --------------  -----  \n",
            " 0   Pregnancies               768 non-null    int64  \n",
            " 1   Glucose                   768 non-null    int64  \n",
            " 2   BloodPressure             768 non-null    int64  \n",
            " 3   SkinThickness             768 non-null    int64  \n",
            " 4   Insulin                   768 non-null    int64  \n",
            " 5   BMI                       768 non-null    float64\n",
            " 6   DiabetesPedigreeFunction  768 non-null    float64\n",
            " 7   Age                       768 non-null    int64  \n",
            " 8   Outcome                   768 non-null    int64  \n",
            "dtypes: float64(2), int64(7)\n",
            "memory usage: 54.1 KB\n"
          ],
          "name": "stdout"
        }
      ]
    },
    {
      "cell_type": "code",
      "metadata": {
        "colab": {
          "base_uri": "https://localhost:8080/"
        },
        "id": "vipBNjCEjeGN",
        "outputId": "481d749a-ab53-4098-f991-cc621b8385d2"
      },
      "source": [
        "%cd Data-Collections/1.糖尿病预测数据集\n",
        "!ls"
      ],
      "execution_count": null,
      "outputs": [
        {
          "output_type": "stream",
          "text": [
            "/content/Data-Collections/1.糖尿病预测数据集\n",
            "diabetes.csv\n"
          ],
          "name": "stdout"
        }
      ]
    },
    {
      "cell_type": "code",
      "metadata": {
        "id": "5sTbVpgiY0vQ"
      },
      "source": [
        "from sklearn.model_selection import train_test_split\n",
        "diabetes=train_data\n",
        "X_train, X_test, y_train, y_test = train_test_split(\n",
        "    diabetes.loc[:, diabetes.columns != \"Outcome\"],\n",
        "    diabetes[\"Outcome\"], stratify=diabetes[\"Outcome\"],\n",
        "    random_state=66)"
      ],
      "execution_count": null,
      "outputs": []
    },
    {
      "cell_type": "markdown",
      "metadata": {
        "id": "hSNB6BFaeu-B"
      },
      "source": [
        "# KNN算法"
      ]
    },
    {
      "cell_type": "code",
      "metadata": {
        "colab": {
          "base_uri": "https://localhost:8080/",
          "height": 280
        },
        "id": "5QN9GtiBakob",
        "outputId": "27a60aa8-d9ab-473d-bde8-b600c7799bca"
      },
      "source": [
        "from sklearn.neighbors import KNeighborsClassifier\n",
        "\n",
        "training_accuracy = []\n",
        "test_accuracy = []\n",
        "\n",
        "neighbors_settings = range(1,11)\n",
        "\n",
        "for n_neighbors in neighbors_settings:\n",
        "  knn = KNeighborsClassifier(n_neighbors=n_neighbors)\n",
        "  knn.fit(X_train,y_train)\n",
        "  training_accuracy.append(knn.score(X_train,y_train))\n",
        "  test_accuracy.append(knn.score(X_test,y_test))\n",
        "\n",
        "plt.plot(neighbors_settings, training_accuracy, label=\"training accuracy\")\n",
        "plt.plot(neighbors_settings, test_accuracy, label=\"test accuracy\")\n",
        "plt.ylabel(\"Accuracy\")\n",
        "plt.xlabel(\"n_neighbors\")\n",
        "plt.legend()\n",
        "plt.savefig('knn_compare_model')\n"
      ],
      "execution_count": null,
      "outputs": [
        {
          "output_type": "display_data",
          "data": {
            "image/png": "[encoded data removed]",
            "text/plain": [
              "<Figure size 432x288 with 1 Axes>"
            ]
          },
          "metadata": {
            "tags": [],
            "needs_background": "light"
          }
        }
      ]
    },
    {
      "cell_type": "code",
      "metadata": {
        "id": "gNhTEvC2d6JL",
        "colab": {
          "base_uri": "https://localhost:8080/"
        },
        "outputId": "e2f933d4-0179-4942-ffeb-27f83636d129"
      },
      "source": [
        "knn = KNeighborsClassifier(n_neighbors=9)\n",
        "knn.fit(X_train,y_train)\n",
        "\n",
        "print('Accuracy of K-NN classifier on training set:{:.2f}'.format(knn.score(X_train,y_train)))\n",
        "print('Accuracy of K-NN classifier on training set:{:.2f}'.format(knn.score(X_test,y_test)))"
      ],
      "execution_count": null,
      "outputs": [
        {
          "output_type": "stream",
          "text": [
            "Accuracy of K-NN classifier on training set:0.79\n",
            "Accuracy of K-NN classifier on training set:0.78\n"
          ],
          "name": "stdout"
        }
      ]
    },
    {
      "cell_type": "markdown",
      "metadata": {
        "id": "UWPTpkm2ezO8"
      },
      "source": [
        "#逻辑回归"
      ]
    },
    {
      "cell_type": "code",
      "metadata": {
        "id": "kh8DBB-keqO6",
        "colab": {
          "base_uri": "https://localhost:8080/"
        },
        "outputId": "2e9ba868-611e-4001-cc7c-ce23c85d5f5e"
      },
      "source": [
        "from sklearn.linear_model import LogisticRegression\n",
        "\n",
        "logreg = LogisticRegression().fit(X_train,y_train)\n",
        "print('Training set accuracy:{:.3f}'.format(logreg.score(X_train,y_train)))\n",
        "print('Training set accuracy:{:.3f}'.format(logreg.score(X_test,y_test)))"
      ],
      "execution_count": null,
      "outputs": [
        {
          "output_type": "stream",
          "text": [
            "Training set accuracy:0.785\n",
            "Training set accuracy:0.771\n"
          ],
          "name": "stdout"
        },
        {
          "output_type": "stream",
          "text": [
            "/usr/local/lib/python3.7/dist-packages/sklearn/linear_model/_logistic.py:940: ConvergenceWarning: lbfgs failed to converge (status=1):\n",
            "STOP: TOTAL NO. of ITERATIONS REACHED LIMIT.\n",
            "\n",
            "Increase the number of iterations (max_iter) or scale the data as shown in:\n",
            "    https://scikit-learn.org/stable/modules/preprocessing.html\n",
            "Please also refer to the documentation for alternative solver options:\n",
            "    https://scikit-learn.org/stable/modules/linear_model.html#logistic-regression\n",
            "  extra_warning_msg=_LOGISTIC_SOLVER_CONVERGENCE_MSG)\n"
          ],
          "name": "stderr"
        }
      ]
    },
    {
      "cell_type": "markdown",
      "metadata": {
        "id": "CoI9xp06fouQ"
      },
      "source": [
        "#决策树"
      ]
    },
    {
      "cell_type": "code",
      "metadata": {
        "id": "8VnBbjkyfn-i",
        "colab": {
          "base_uri": "https://localhost:8080/"
        },
        "outputId": "2ebea3c4-6c53-4c44-eae0-577dc669ea6e"
      },
      "source": [
        "from sklearn.tree import DecisionTreeClassifier\n",
        "\n",
        "tree =  DecisionTreeClassifier(random_state=0)\n",
        "tree.fit(X_train,y_train)\n",
        "print('Training set accuracy:{:.3f}'.format(knn.score(X_train,y_train)))\n",
        "print('Training set accuracy:{:.3f}'.format(knn.score(X_test,y_test)))"
      ],
      "execution_count": null,
      "outputs": [
        {
          "output_type": "stream",
          "text": [
            "Training set accuracy:0.792\n",
            "Training set accuracy:0.776\n"
          ],
          "name": "stdout"
        }
      ]
    },
    {
      "cell_type": "code",
      "metadata": {
        "id": "po52DPD7gTKi",
        "colab": {
          "base_uri": "https://localhost:8080/"
        },
        "outputId": "f233bd01-7572-4a2f-ef51-d25c2df558df"
      },
      "source": [
        "from sklearn.tree import DecisionTreeClassifier\n",
        "\n",
        "tree =  DecisionTreeClassifier(random_state=0,max_depth=3)\n",
        "tree.fit(X_train,y_train)\n",
        "print('Training set accuracy:{:.3f}'.format(tree.score(X_train,y_train)))\n",
        "print('Training set accuracy:{:.3f}'.format(tree.score(X_test,y_test)))"
      ],
      "execution_count": null,
      "outputs": [
        {
          "output_type": "stream",
          "text": [
            "Training set accuracy:0.773\n",
            "Training set accuracy:0.740\n"
          ],
          "name": "stdout"
        }
      ]
    },
    {
      "cell_type": "markdown",
      "metadata": {
        "id": "fbDtPeHXgauP"
      },
      "source": [
        "#随机森林"
      ]
    },
    {
      "cell_type": "code",
      "metadata": {
        "id": "YywbYD_xgg3J",
        "colab": {
          "base_uri": "https://localhost:8080/"
        },
        "outputId": "37dbe254-af67-4da2-fa99-6682259d5f28"
      },
      "source": [
        "from sklearn.ensemble import RandomForestClassifier\n",
        "\n",
        "rf =  RandomForestClassifier(random_state=0,n_estimators=100)\n",
        "rf.fit(X_train,y_train)\n",
        "print('Training set accuracy:{:.3f}'.format(rf.score(X_train,y_train)))\n",
        "print('Training set accuracy:{:.3f}'.format(rf.score(X_test,y_test)))"
      ],
      "execution_count": null,
      "outputs": [
        {
          "output_type": "stream",
          "text": [
            "Training set accuracy:1.000\n",
            "Training set accuracy:0.786\n"
          ],
          "name": "stdout"
        }
      ]
    },
    {
      "cell_type": "code",
      "metadata": {
        "id": "kZRAI731hdfp",
        "colab": {
          "base_uri": "https://localhost:8080/"
        },
        "outputId": "0f68ab21-7486-416f-cd85-cab9f005411d"
      },
      "source": [
        "rf1 =  RandomForestClassifier(random_state=0,n_estimators=100,max_depth=3)\n",
        "rf1.fit(X_train,y_train)\n",
        "print('Training set accuracy:{:.3f}'.format(rf1.score(X_train,y_train)))\n",
        "print('Training set accuracy:{:.3f}'.format(rf1.score(X_test,y_test)))"
      ],
      "execution_count": null,
      "outputs": [
        {
          "output_type": "stream",
          "text": [
            "Training set accuracy:0.800\n",
            "Training set accuracy:0.755\n"
          ],
          "name": "stdout"
        }
      ]
    }
  ]
}